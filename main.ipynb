{
 "cells": [
  {
   "cell_type": "code",
   "execution_count": 1,
   "metadata": {},
   "outputs": [],
   "source": [
    "import speech_recognition as sr\n",
    "r=sr.Recognizer()"
   ]
  },
  {
   "cell_type": "code",
   "execution_count": 14,
   "metadata": {},
   "outputs": [
    {
     "name": "stdout",
     "output_type": "stream",
     "text": [
      "Marks Recognizing 5\n",
      "Marks Recognizing 25\n",
      "Marks Recognizing 80\n",
      "Marks Recognizing 94\n",
      "Marks Recognizing 32\n",
      "{2: '5', 3: '25', 4: '80', 5: '94', 6: '32'}\n"
     ]
    }
   ],
   "source": [
    "d={}\n",
    "total=0\n",
    "no_of_que = int(input(\"Enter number of questions:\"))\n",
    "choice=\"YES\"\n",
    "i=0\n",
    "for i in range(1,no_of_que+1):\n",
    "    with sr.Microphone() as source:\n",
    "        print(\"Marks\",end=\" \")\n",
    "        marks_data = r.record(source=source,duration=2)\n",
    "        print(\"Recognizing\",end=\" \")\n",
    "        marks=r.recognize_google(audio_data=marks_data)\n",
    "        print(marks)\n",
    "        d[i+1]=marks\n",
    "print(d)"
   ]
  }
 ],
 "metadata": {
  "kernelspec": {
   "display_name": "Python 3.10.2 64-bit",
   "language": "python",
   "name": "python3"
  },
  "language_info": {
   "codemirror_mode": {
    "name": "ipython",
    "version": 3
   },
   "file_extension": ".py",
   "mimetype": "text/x-python",
   "name": "python",
   "nbconvert_exporter": "python",
   "pygments_lexer": "ipython3",
   "version": "3.10.2"
  },
  "orig_nbformat": 4,
  "vscode": {
   "interpreter": {
    "hash": "369f2c481f4da34e4445cda3fffd2e751bd1c4d706f27375911949ba6bb62e1c"
   }
  }
 },
 "nbformat": 4,
 "nbformat_minor": 2
}
